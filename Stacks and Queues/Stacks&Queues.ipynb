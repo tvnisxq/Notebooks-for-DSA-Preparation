{
  "nbformat": 4,
  "nbformat_minor": 0,
  "metadata": {
    "colab": {
      "provenance": [],
      "authorship_tag": "ABX9TyNeW4rqFDewd0/G8uQ62FuB"
    },
    "kernelspec": {
      "name": "python3",
      "display_name": "Python 3"
    },
    "language_info": {
      "name": "python"
    }
  },
  "cells": [
    {
      "cell_type": "markdown",
      "source": [
        "# Stacks"
      ],
      "metadata": {
        "id": "njeUOjNvdRJa"
      }
    },
    {
      "cell_type": "markdown",
      "source": [
        "**Stacks follow a LIFO policy: Last in First Out.**"
      ],
      "metadata": {
        "id": "AjZ3loVHfGkz"
      }
    },
    {
      "cell_type": "code",
      "source": [
        "stack = []\n",
        "print(stack)"
      ],
      "metadata": {
        "colab": {
          "base_uri": "https://localhost:8080/"
        },
        "id": "srBHAh3cdat0",
        "outputId": "421ad13a-8599-434f-af25-622b7b698540"
      },
      "execution_count": null,
      "outputs": [
        {
          "output_type": "stream",
          "name": "stdout",
          "text": [
            "[]\n"
          ]
        }
      ]
    },
    {
      "cell_type": "code",
      "source": [
        "# Appending to the stack - O(1)\n",
        "stack.append(5)"
      ],
      "metadata": {
        "id": "danbgI1BdicL"
      },
      "execution_count": null,
      "outputs": []
    },
    {
      "cell_type": "code",
      "source": [
        "print(stack)"
      ],
      "metadata": {
        "colab": {
          "base_uri": "https://localhost:8080/"
        },
        "id": "GeyjmNpWdqfm",
        "outputId": "f449764a-7f7f-48cb-b23e-a11d6fc0615d"
      },
      "execution_count": null,
      "outputs": [
        {
          "output_type": "stream",
          "name": "stdout",
          "text": [
            "[5]\n"
          ]
        }
      ]
    },
    {
      "cell_type": "code",
      "source": [
        "stack.append(4)\n",
        "stack.append(3)\n",
        "print(stack)"
      ],
      "metadata": {
        "colab": {
          "base_uri": "https://localhost:8080/"
        },
        "id": "2G6HinzXduAr",
        "outputId": "fabfe04d-d94c-4557-c1bc-bf4e1b909f3c"
      },
      "execution_count": null,
      "outputs": [
        {
          "output_type": "stream",
          "name": "stdout",
          "text": [
            "[5, 4, 3]\n"
          ]
        }
      ]
    },
    {
      "cell_type": "code",
      "source": [
        "# Popping from the stack - O(1)\n",
        "x = stack.pop()\n",
        "print(x)\n",
        "print(stack)"
      ],
      "metadata": {
        "colab": {
          "base_uri": "https://localhost:8080/"
        },
        "id": "pP2zv5W8d2rz",
        "outputId": "7d6c1c7f-2b67-4b8f-fa96-bd3d44b3f3d2"
      },
      "execution_count": null,
      "outputs": [
        {
          "output_type": "stream",
          "name": "stdout",
          "text": [
            "3\n",
            "[5, 4]\n"
          ]
        }
      ]
    },
    {
      "cell_type": "code",
      "source": [
        "# Asl what's on top of the stack - O(1)\n",
        "print(stack[-1])"
      ],
      "metadata": {
        "colab": {
          "base_uri": "https://localhost:8080/"
        },
        "id": "nIEppsakeDIx",
        "outputId": "dc7a43f4-c2fa-4414-d612-81827b2101e3"
      },
      "execution_count": null,
      "outputs": [
        {
          "output_type": "stream",
          "name": "stdout",
          "text": [
            "4\n"
          ]
        }
      ]
    },
    {
      "cell_type": "code",
      "source": [
        "# Ask if something is in the stack - O(1)\n",
        "if stack:\n",
        "  print(True)"
      ],
      "metadata": {
        "colab": {
          "base_uri": "https://localhost:8080/"
        },
        "id": "UsQP3ewpeOze",
        "outputId": "c4cb1e64-2ea1-494a-de78-5bad552ed5a8"
      },
      "execution_count": null,
      "outputs": [
        {
          "output_type": "stream",
          "name": "stdout",
          "text": [
            "True\n"
          ]
        }
      ]
    },
    {
      "cell_type": "code",
      "source": [
        "stack"
      ],
      "metadata": {
        "colab": {
          "base_uri": "https://localhost:8080/"
        },
        "id": "wcYMuzoAeehs",
        "outputId": "3b2d7d6d-5e70-447d-a5e3-8bb82a05226c"
      },
      "execution_count": null,
      "outputs": [
        {
          "output_type": "execute_result",
          "data": {
            "text/plain": [
              "[5, 4]"
            ]
          },
          "metadata": {},
          "execution_count": 17
        }
      ]
    },
    {
      "cell_type": "code",
      "source": [
        "stack.pop()"
      ],
      "metadata": {
        "colab": {
          "base_uri": "https://localhost:8080/"
        },
        "id": "_KdoDGL8emrN",
        "outputId": "8eeeb36a-5b04-4b49-a59b-ace31a14177f"
      },
      "execution_count": null,
      "outputs": [
        {
          "output_type": "execute_result",
          "data": {
            "text/plain": [
              "4"
            ]
          },
          "metadata": {},
          "execution_count": 18
        }
      ]
    },
    {
      "cell_type": "code",
      "source": [
        "stack.pop()"
      ],
      "metadata": {
        "colab": {
          "base_uri": "https://localhost:8080/"
        },
        "id": "WnMl8M_leptF",
        "outputId": "4e4ad794-2265-4bcc-e5e3-9df67b77455a"
      },
      "execution_count": null,
      "outputs": [
        {
          "output_type": "execute_result",
          "data": {
            "text/plain": [
              "5"
            ]
          },
          "metadata": {},
          "execution_count": 19
        }
      ]
    },
    {
      "cell_type": "code",
      "source": [
        "# Always first check if the stack is empty or not.\n",
        "# popping from an empty stack would result in an IndexError.\n",
        "stack.pop()"
      ],
      "metadata": {
        "id": "Pk64dDf-er37"
      },
      "execution_count": null,
      "outputs": []
    },
    {
      "cell_type": "markdown",
      "source": [
        "# Queues"
      ],
      "metadata": {
        "id": "bEYFY1N8f5cB"
      }
    },
    {
      "cell_type": "markdown",
      "source": [
        "**Queues follow a FIFO Policy: First In First Out**"
      ],
      "metadata": {
        "id": "kgaQAzJigDXp"
      }
    },
    {
      "cell_type": "code",
      "source": [
        "# deque\n",
        "from collections import deque\n",
        "\n",
        "q = deque()\n",
        "print(q)"
      ],
      "metadata": {
        "colab": {
          "base_uri": "https://localhost:8080/"
        },
        "id": "IGBgwTxCgMMH",
        "outputId": "94039060-45bd-438c-856f-61c8e2056976"
      },
      "execution_count": null,
      "outputs": [
        {
          "output_type": "stream",
          "name": "stdout",
          "text": [
            "deque([])\n"
          ]
        }
      ]
    },
    {
      "cell_type": "code",
      "source": [
        "# Enque - Add element to the right - O(1)\n",
        "q.append(5)\n",
        "print(q)"
      ],
      "metadata": {
        "colab": {
          "base_uri": "https://localhost:8080/"
        },
        "id": "C4m0EyDHgmxj",
        "outputId": "6f93efbf-3f9d-415d-ac7a-0e92f7ba193f"
      },
      "execution_count": null,
      "outputs": [
        {
          "output_type": "stream",
          "name": "stdout",
          "text": [
            "deque([5])\n"
          ]
        }
      ]
    },
    {
      "cell_type": "code",
      "source": [
        "q.append(6)\n",
        "print(q)"
      ],
      "metadata": {
        "colab": {
          "base_uri": "https://localhost:8080/"
        },
        "id": "FrI32Zahh9EH",
        "outputId": "5beb3617-b929-4bb9-967b-a442bc5593e3"
      },
      "execution_count": null,
      "outputs": [
        {
          "output_type": "stream",
          "name": "stdout",
          "text": [
            "deque([5, 6])\n"
          ]
        }
      ]
    },
    {
      "cell_type": "code",
      "source": [
        "# Deque(pop left) - remove element from the left - O(1)\n",
        "q.popleft()"
      ],
      "metadata": {
        "colab": {
          "base_uri": "https://localhost:8080/"
        },
        "id": "L2vUG0ksiBJB",
        "outputId": "70eeed3c-c53c-4cae-a52d-caf476b5a0ca"
      },
      "execution_count": null,
      "outputs": [
        {
          "output_type": "execute_result",
          "data": {
            "text/plain": [
              "5"
            ]
          },
          "metadata": {},
          "execution_count": 33
        }
      ]
    },
    {
      "cell_type": "code",
      "source": [
        "q"
      ],
      "metadata": {
        "colab": {
          "base_uri": "https://localhost:8080/"
        },
        "id": "PaaI5eUZjw5A",
        "outputId": "43423582-c2c4-4837-aa74-c81b8a4772cd"
      },
      "execution_count": null,
      "outputs": [
        {
          "output_type": "execute_result",
          "data": {
            "text/plain": [
              "deque([6])"
            ]
          },
          "metadata": {},
          "execution_count": 34
        }
      ]
    },
    {
      "cell_type": "code",
      "source": [
        "q.append(7)"
      ],
      "metadata": {
        "id": "lkAJh73XjhOV"
      },
      "execution_count": null,
      "outputs": []
    },
    {
      "cell_type": "code",
      "source": [
        "q"
      ],
      "metadata": {
        "colab": {
          "base_uri": "https://localhost:8080/"
        },
        "id": "E0VAl-QijzL8",
        "outputId": "e72b765d-ba22-4397-da4f-ea781f8daf7c"
      },
      "execution_count": null,
      "outputs": [
        {
          "output_type": "execute_result",
          "data": {
            "text/plain": [
              "deque([6, 7])"
            ]
          },
          "metadata": {},
          "execution_count": 36
        }
      ]
    },
    {
      "cell_type": "code",
      "source": [
        "# Peek from left - O(1): ask what's at the beginning\n",
        "q[0]"
      ],
      "metadata": {
        "colab": {
          "base_uri": "https://localhost:8080/"
        },
        "id": "kKA0Eh-ziYtQ",
        "outputId": "72143e90-5c3c-4deb-fd67-49296b33fa33"
      },
      "execution_count": null,
      "outputs": [
        {
          "output_type": "execute_result",
          "data": {
            "text/plain": [
              "6"
            ]
          },
          "metadata": {},
          "execution_count": 37
        }
      ]
    },
    {
      "cell_type": "code",
      "source": [
        "# Peek from right - O(1): ask what's at the end\n",
        "q[-1]"
      ],
      "metadata": {
        "colab": {
          "base_uri": "https://localhost:8080/"
        },
        "id": "SLXpOT8vjLOf",
        "outputId": "5ddc40cc-a9a0-4266-a816-274e517e4884"
      },
      "execution_count": null,
      "outputs": [
        {
          "output_type": "execute_result",
          "data": {
            "text/plain": [
              "7"
            ]
          },
          "metadata": {},
          "execution_count": 38
        }
      ]
    }
  ]
}