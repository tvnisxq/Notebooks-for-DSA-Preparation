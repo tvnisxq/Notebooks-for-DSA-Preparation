{
  "nbformat": 4,
  "nbformat_minor": 0,
  "metadata": {
    "colab": {
      "provenance": [],
      "authorship_tag": "ABX9TyO/qPIT4aWLqSz17vAu/aCH"
    },
    "kernelspec": {
      "name": "python3",
      "display_name": "Python 3"
    },
    "language_info": {
      "name": "python"
    }
  },
  "cells": [
    {
      "cell_type": "markdown",
      "source": [
        "####  Sorted Array - Naive O(n) searching"
      ],
      "metadata": {
        "id": "CcnSsTHfsPfC"
      }
    },
    {
      "cell_type": "code",
      "execution_count": 2,
      "metadata": {
        "colab": {
          "base_uri": "https://localhost:8080/"
        },
        "collapsed": true,
        "id": "JSIEHP_EIYu6",
        "outputId": "c7490a9b-ba4a-4e0c-bd97-4fc139746a63"
      },
      "outputs": [
        {
          "output_type": "stream",
          "name": "stdout",
          "text": [
            "True\n"
          ]
        }
      ],
      "source": [
        "\n",
        "A = [-3, -1, 0, 1, 4, 7]\n",
        "if -1 in A:\n",
        "  print(True)"
      ]
    },
    {
      "cell_type": "markdown",
      "source": [
        "#### Traditional Binary Search"
      ],
      "metadata": {
        "id": "dJqCAwgKsyxY"
      }
    },
    {
      "cell_type": "code",
      "source": [
        "# Since this is a sorted array, We can implement a Traditional Binary Search here\n",
        "# Time: O(log₂N); N is the size of the array\n",
        "# Space: O(1)\n",
        "def binarySearch(arr, target):\n",
        "  n = len(arr)\n",
        "  l = 0\n",
        "  r = n-1\n",
        "\n",
        "  while l <= r:\n",
        "    \"\"\"\n",
        "    Most common way of finding the middle element is (l + r) // 2 BUT\n",
        "    this can cause an integer overflow in large input sizes SO we optimize:\n",
        "    r-l is the only part that gets the integer division by 2\n",
        "    not the l which comes previously in the equation.\n",
        "    \"\"\"\n",
        "    m = l+ ((r-l) // 2)\n",
        "    # We then ask three different questions\n",
        "\n",
        "    if arr[m] == target:\n",
        "      return True\n",
        "\n",
        "    elif target < arr[m]:\n",
        "      r = m - 1\n",
        "    else:\n",
        "      l = m + 1\n",
        "\n",
        "\n",
        "  return False\n",
        "binarySearch(A, -1)"
      ],
      "metadata": {
        "colab": {
          "base_uri": "https://localhost:8080/"
        },
        "id": "Yfz9KKfGJI7p",
        "outputId": "90d4da59-6dc6-434f-bc0b-3aad62285aa4"
      },
      "execution_count": 13,
      "outputs": [
        {
          "output_type": "execute_result",
          "data": {
            "text/plain": [
              "True"
            ]
          },
          "metadata": {},
          "execution_count": 13
        }
      ]
    },
    {
      "cell_type": "markdown",
      "source": [
        "#### Condition Based Binary Search"
      ],
      "metadata": {
        "id": "ONnNziE-sd-V"
      }
    },
    {
      "cell_type": "code",
      "source": [
        "B = [False, False, False, False, True, True, True]\n",
        "\n",
        "def conditionBasedBS(arr):\n",
        "  # Same initialization as Traditional BS\n",
        "  n = len(arr)\n",
        "  l = 0\n",
        "  r = n -1\n",
        "\n",
        "  while l < r:\n",
        "\n",
        "\n",
        "  return"
      ],
      "metadata": {
        "id": "4o_5tT55oTW6"
      },
      "execution_count": null,
      "outputs": []
    }
  ]
}