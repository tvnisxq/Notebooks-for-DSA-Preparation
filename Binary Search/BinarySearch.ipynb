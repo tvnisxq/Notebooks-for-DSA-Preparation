{
  "nbformat": 4,
  "nbformat_minor": 0,
  "metadata": {
    "colab": {
      "provenance": [],
      "authorship_tag": "ABX9TyMGzN8FHVIsTAvMDee4Du6B",
      "include_colab_link": true
    },
    "kernelspec": {
      "name": "python3",
      "display_name": "Python 3"
    },
    "language_info": {
      "name": "python"
    }
  },
  "cells": [
    {
      "cell_type": "markdown",
      "metadata": {
        "id": "view-in-github",
        "colab_type": "text"
      },
      "source": [
        "<a href=\"https://colab.research.google.com/github/tvnisxq/Notebooks-for-DSA-Preparation/blob/main/Binary%20Search/BinarySearch.ipynb\" target=\"_parent\"><img src=\"https://colab.research.google.com/assets/colab-badge.svg\" alt=\"Open In Colab\"/></a>"
      ]
    },
    {
      "cell_type": "markdown",
      "source": [
        "####  Sorted Array - Naive O(n) searching"
      ],
      "metadata": {
        "id": "CcnSsTHfsPfC"
      }
    },
    {
      "cell_type": "code",
      "execution_count": null,
      "metadata": {
        "collapsed": true,
        "id": "JSIEHP_EIYu6"
      },
      "outputs": [],
      "source": [
        "\n",
        "A = [-3, -1, 0, 1, 4, 7]\n",
        "if -1 in A:\n",
        "  print(True)"
      ]
    },
    {
      "cell_type": "markdown",
      "source": [
        "#### Traditional Binary Search"
      ],
      "metadata": {
        "id": "dJqCAwgKsyxY"
      }
    },
    {
      "cell_type": "code",
      "source": [
        "# Since this is a sorted array, We can implement a Traditional Binary Search here\n",
        "# Time: O(log₂N); N is the size of the array\n",
        "# Space: O(1)\n",
        "def binarySearch(arr, target):\n",
        "  n = len(arr)\n",
        "  l = 0\n",
        "  r = n-1\n",
        "\n",
        "  while l <= r:\n",
        "    \"\"\"\n",
        "    Most common way of finding the middle element is (l + r) // 2 BUT\n",
        "    this can cause an integer overflow in large input sizes SO we optimize:\n",
        "    r-l is the only part that gets the integer division by 2\n",
        "    not the l which comes previously in the equation.\n",
        "    \"\"\"\n",
        "    m = l+ ((r-l) // 2)\n",
        "    # We then ask three different questions:\n",
        "\n",
        "    if arr[m] == target:\n",
        "      return True\n",
        "\n",
        "    elif target < arr[m]:\n",
        "      r = m - 1\n",
        "    else:\n",
        "      l = m + 1\n",
        "\n",
        "\n",
        "  return False\n",
        "binarySearch(A, -1)"
      ],
      "metadata": {
        "id": "Yfz9KKfGJI7p"
      },
      "execution_count": null,
      "outputs": []
    },
    {
      "cell_type": "markdown",
      "source": [
        "#### Condition Based Binary Search"
      ],
      "metadata": {
        "id": "ONnNziE-sd-V"
      }
    },
    {
      "cell_type": "code",
      "source": [
        "B = [False, False, False, False, True, True, True]\n",
        "\n",
        "def conditionBasedBS(arr):\n",
        "  # Same initialization as Traditional BS\n",
        "  n = len(arr)\n",
        "  l = 0\n",
        "  r = n -1\n",
        "\n",
        "  while l < r:\n",
        "    # NOTE that it's always better to use the formula used above\n",
        "    # for Large input cases. But this one just works fine here.\n",
        "    m = (l+r) // 2\n",
        "\n",
        "    \"\"\"\n",
        "    If this evaluates to True, it basically means that\n",
        "    [....., True, True, True] is our search space with 4,5,6\n",
        "    as the indices of each subsequent True respectively.\n",
        "    \"\"\"\n",
        "\n",
        "    # we basically want to move R to the left side\n",
        "    # because we want to find the first True that shows up.\n",
        "    if B[m]: r = m\n",
        "\n",
        "    else: l = m + 1\n",
        "\n",
        "  # We can return l or r(doesn't matter which one) because\n",
        "  # this algorithm particularly stops when L is equal to R.\n",
        "  return r\n",
        "\n",
        "conditionBasedBS(B)"
      ],
      "metadata": {
        "id": "4o_5tT55oTW6"
      },
      "execution_count": null,
      "outputs": []
    },
    {
      "cell_type": "code",
      "source": [],
      "metadata": {
        "id": "Mw7decvOAfWp"
      },
      "execution_count": null,
      "outputs": []
    }
  ]
}