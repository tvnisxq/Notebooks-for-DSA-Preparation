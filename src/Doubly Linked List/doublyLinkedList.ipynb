{
 "cells": [
  {
   "cell_type": "markdown",
   "id": "94b2229f",
   "metadata": {},
   "source": [
    "# Doubly Linked List "
   ]
  },
  {
   "cell_type": "markdown",
   "id": "be6d0acf",
   "metadata": {},
   "source": [
    "### Basic Doubly Linked List in Python"
   ]
  },
  {
   "cell_type": "code",
   "execution_count": 2,
   "id": "a9ca7653",
   "metadata": {},
   "outputs": [],
   "source": [
    "class Node:\n",
    "    def __init__(self, data):\n",
    "        self.data = data\n",
    "        self.next = None\n",
    "        self.prev = None"
   ]
  },
  {
   "cell_type": "markdown",
   "id": "8c6c775b",
   "metadata": {},
   "source": [
    "#### Node Creation <-> data allocation"
   ]
  },
  {
   "cell_type": "code",
   "execution_count": 5,
   "id": "52ec24b0",
   "metadata": {},
   "outputs": [],
   "source": [
    "node1 = Node(3)\n",
    "node2 = Node(5)\n",
    "node3 = Node(13)\n",
    "node4 = Node(2)"
   ]
  },
  {
   "cell_type": "markdown",
   "id": "94aa179a",
   "metadata": {},
   "source": [
    "#### Node address <-> pointers"
   ]
  },
  {
   "cell_type": "code",
   "execution_count": 6,
   "id": "6b3bc4e8",
   "metadata": {},
   "outputs": [],
   "source": [
    "# There doesn't exist no prev pointer for the head node\n",
    "node1.next = node2\n",
    "\n",
    "node2.next = node3\n",
    "node2.prev = node1\n",
    "\n",
    "node3.next = node4\n",
    "node3.prev = node2\n",
    "\n",
    "# There doesn't exist no next pointer for the tail node\n",
    "node4.prev= node3"
   ]
  },
  {
   "cell_type": "code",
   "execution_count": 10,
   "id": "9f448824",
   "metadata": {},
   "outputs": [
    {
     "name": "stdout",
     "output_type": "stream",
     "text": [
      "\n",
      "Traversing Forward:\n",
      "3 -> 5 -> 13 -> 2 -> null\n",
      "\n",
      "Traversing Backward:\n",
      "2 -> 13 -> 5 -> 3 -> null\n"
     ]
    }
   ],
   "source": [
    "print('\\nTraversing Forward:')\n",
    "currentNode = node1\n",
    "while currentNode:\n",
    "    print(currentNode.data, end = ' -> ')\n",
    "    currentNode = currentNode.next\n",
    "print('null')\n",
    "\n",
    "print('\\nTraversing Backward:')\n",
    "currentNode = node4\n",
    "while currentNode:\n",
    "    print(currentNode.data, end = ' -> ')\n",
    "    currentNode = currentNode.prev\n",
    "print('null')"
   ]
  }
 ],
 "metadata": {
  "kernelspec": {
   "display_name": "Python(tf-gpu)",
   "language": "python",
   "name": "tf-gpu"
  },
  "language_info": {
   "codemirror_mode": {
    "name": "ipython",
    "version": 3
   },
   "file_extension": ".py",
   "mimetype": "text/x-python",
   "name": "python",
   "nbconvert_exporter": "python",
   "pygments_lexer": "ipython3",
   "version": "3.8.20"
  }
 },
 "nbformat": 4,
 "nbformat_minor": 5
}
