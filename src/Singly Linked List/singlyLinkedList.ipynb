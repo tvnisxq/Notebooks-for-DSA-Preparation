{
 "cells": [
  {
   "cell_type": "markdown",
   "id": "be5cfcbe",
   "metadata": {},
   "source": [
    "## Singly Linked List"
   ]
  },
  {
   "cell_type": "markdown",
   "id": "df2d2466",
   "metadata": {},
   "source": [
    "### Basic Singly Linked List in Python"
   ]
  },
  {
   "cell_type": "code",
   "execution_count": 10,
   "id": "a235317b",
   "metadata": {},
   "outputs": [],
   "source": [
    "class Node:\n",
    "    def __init__(self,data):\n",
    "        self.data = data\n",
    "        self.next = None"
   ]
  },
  {
   "cell_type": "markdown",
   "id": "9da1128b",
   "metadata": {},
   "source": [
    "#### Node Creation <-> data allocation "
   ]
  },
  {
   "cell_type": "code",
   "execution_count": 11,
   "id": "48f051a7",
   "metadata": {},
   "outputs": [],
   "source": [
    "node1 = Node(3)\n",
    "node2 = Node(5)\n",
    "node3 = Node(15)\n",
    "node4 = Node(2)"
   ]
  },
  {
   "cell_type": "markdown",
   "id": "6d43c57d",
   "metadata": {},
   "source": [
    "#### Node address <-> pointers"
   ]
  },
  {
   "cell_type": "code",
   "execution_count": 12,
   "id": "80e01442",
   "metadata": {},
   "outputs": [],
   "source": [
    "node1.next = node2\n",
    "node2.next = node3\n",
    "node3.next = node4"
   ]
  },
  {
   "cell_type": "markdown",
   "id": "3b8b348a",
   "metadata": {},
   "source": [
    "#### Traversal"
   ]
  },
  {
   "cell_type": "code",
   "execution_count": 13,
   "id": "ac169540",
   "metadata": {},
   "outputs": [
    {
     "name": "stdout",
     "output_type": "stream",
     "text": [
      "3->5->15->2->null\n"
     ]
    }
   ],
   "source": [
    "curr = node1\n",
    "while curr:\n",
    "    print(curr.data, end=\"->\")\n",
    "    curr = curr.next\n",
    "print(\"null\")"
   ]
  }
 ],
 "metadata": {
  "kernelspec": {
   "display_name": "Python(tf-gpu)",
   "language": "python",
   "name": "tf-gpu"
  },
  "language_info": {
   "codemirror_mode": {
    "name": "ipython",
    "version": 3
   },
   "file_extension": ".py",
   "mimetype": "text/x-python",
   "name": "python",
   "nbconvert_exporter": "python",
   "pygments_lexer": "ipython3",
   "version": "3.8.20"
  }
 },
 "nbformat": 4,
 "nbformat_minor": 5
}
