{
  "nbformat": 4,
  "nbformat_minor": 0,
  "metadata": {
    "colab": {
      "provenance": [],
      "authorship_tag": "ABX9TyN98Hu62bvIkx1uz+K9NShT",
      "include_colab_link": true
    },
    "kernelspec": {
      "name": "python3",
      "display_name": "Python 3"
    },
    "language_info": {
      "name": "python"
    }
  },
  "cells": [
    {
      "cell_type": "markdown",
      "metadata": {
        "id": "view-in-github",
        "colab_type": "text"
      },
      "source": [
        "<a href=\"https://colab.research.google.com/github/tvnisxq/Notebooks-for-DSA-Preparation/blob/main/LinkedLists/PracticeLinkedLists.ipynb\" target=\"_parent\"><img src=\"https://colab.research.google.com/assets/colab-badge.svg\" alt=\"Open In Colab\"/></a>"
      ]
    },
    {
      "cell_type": "code",
      "execution_count": null,
      "metadata": {
        "id": "PxB924_2byji"
      },
      "outputs": [],
      "source": [
        "class ListNode:\n",
        "  '''\n",
        "  Basic Node Structure for singly Linked List. This is the most\n",
        "  common representation for Linked Lists in Interviews.\n",
        "  '''\n",
        "\n",
        "  def __init__(self, val=0, next=None):\n",
        "    self.val = val   # Data stored in node.\n",
        "    self.next = next # reference to the next node.\n",
        "\n",
        "  def __repr__(self):\n",
        "    return f\"ListNode({self.val})\""
      ]
    },
    {
      "cell_type": "code",
      "source": [
        "class SinglyLinkedList:\n",
        "  '''\n",
        "  Complete implementation of Singly Linked List.\n",
        "  Includes all operations commonly asked in Interviews.\n",
        "  '''\n",
        "\n",
        "  def __init__(self):\n",
        "    self.head = None\n",
        "    self.size = 0\n",
        "\n",
        "  ''' BASIC OPERATIONS'''\n",
        "\n",
        "  def is_empty(self):\n",
        "    ''' Check if the List is empty - O(1)'''\n",
        "    return self.head is None\n",
        "\n",
        "  def get_size(self):\n",
        "    '''Get size of the List - O(1) if maintained, O(n) if calculated '''\n",
        "    return self.size\n",
        "\n",
        "  def append(self, val):\n",
        "    '''Add element at the end - O(n) '''\n",
        "\n",
        "    new_node = ListNode(val) # Creates a new ListNode obj with given value.\n",
        "\n",
        "    # Check if the list is empty.\n",
        "    if not self.head:  # this is True when self.head is None.\n",
        "      self.head = new_node  # if yes, the new node becomes the first and the only node.\n",
        "                            # set head to point to the new node.\n",
        "\n",
        "    # Handle non empty list.\n",
        "    else:\n",
        "      current = self.head\n",
        "      while current.next: # Keep moving the current pointer until we find a node\n",
        "                          # Whose next is none.\n",
        "        current = current.next # Update current to point to the next node.\n",
        "                               # Exits the loop when current.next is None.\n",
        "      current.next = new_node  # This is where actual appending happens.\n",
        "    self.size += 1             # Increment the size by 1."
      ],
      "metadata": {
        "id": "ChMkqX9_dm3B"
      },
      "execution_count": null,
      "outputs": []
    },
    {
      "cell_type": "code",
      "source": [
        "def prepend(self, val):\n",
        "  ''' Add element at beginning - O(1)'''\n",
        "  new_node = ListNode(val) # creates a new node with input val.\n",
        "  new_node.next = self.head   # take the new node & make it point to\n",
        "                              # whatever self.head is pointing to.\n",
        "  self.head = new_node        # update self.head to point to our new node\n",
        "                              # instead of the old first node.\n",
        "  self.size += 1              # increment the size by 1."
      ],
      "metadata": {
        "id": "HgXTy777RWnP"
      },
      "execution_count": null,
      "outputs": []
    },
    {
      "cell_type": "code",
      "source": [
        "def insert(self, index, val):\n",
        "  ''' Insert at specific index - O(n) we may need to traverse the entire list'''\n",
        "  # This checks if the index is valid(must be between 0 and inclusive self.size)\n",
        "  # NOTE: index == self.size is allowed: This means we're inserting at the end.\n",
        "  if index < 0 or index > self.size:\n",
        "    raise IndexError(\"Index out of Bounds\")\n",
        "\n",
        "  # If we're inserting at index 0:\n",
        "  if index == 0:\n",
        "    self.prepend(val) # Just use the existing prepend method & exit early.\n",
        "    return            # Optimization: as prepending is O(1).\n",
        "\n",
        "  new_node = ListNode(val)\n",
        "  # start at the head of the list.\n",
        "  current = self.head\n",
        "\n",
        " # wht iterate (index-1) times: because we need to stop at 1\n",
        " # index before the index in which we want to insert.\n",
        "  for i in range(index -1):\n",
        "    current  = current.next # move current forward (index-1) times.\n",
        "  new_node.next = current.next # make the current node point to whatever the current node is pointing to.\n",
        "  current.next = new_node # make the current node point to our new node.\n",
        "  self.size += 1 # increment the size counter.\n",
        "\n"
      ],
      "metadata": {
        "id": "VvJOoJkOUctM"
      },
      "execution_count": 1,
      "outputs": []
    },
    {
      "cell_type": "code",
      "source": [
        "def delete_by_value(self,val):\n",
        "  '''Delete first occurence of value - O(n)'''\n",
        "  # Check if the list is empty\n",
        "  # If self.head is None: there's nothing to delete.\n",
        "  if not self.head:\n",
        "    return False\n",
        "\n",
        "  # If head needs to be deleted\n",
        "  if self.head.val == val:\n",
        "    self.head = self.head.next # moves the head pointer to the 2nd node.\n",
        "    self.size -= 1 # the original node is now 'orphaned' and will be garbage collected.\n",
        "    return True # return True to indicate successful deletion\n",
        "\n",
        "  # If some other node is to be deleted:\n",
        "  current = self.head # start traversing from the head.\n",
        "  while current.next:  # continue looking as long as there's a next node.\n",
        "    # Check if the next node contains the value we want to delete.\n",
        "    if current.next.val == val:\n",
        "      current.next = current.next.next # This is the deletion step. Making the current node point directly\n",
        "                                       # to the node after the one we're deleting.\n",
        "      self.size -= 1   # decrement size by 1.\n",
        "      return True\n",
        "    current = current.next # If the next node doesn't contain our value,\n",
        "                           # move forward to check the next node.\n",
        "  return False  # I we've checked all nodes and didn't find the value, return False."
      ],
      "metadata": {
        "id": "-X6QQ3n9g_BL"
      },
      "execution_count": 3,
      "outputs": []
    }
  ]
}