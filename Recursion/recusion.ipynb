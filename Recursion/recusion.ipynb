{
  "nbformat": 4,
  "nbformat_minor": 0,
  "metadata": {
    "colab": {
      "provenance": [],
      "authorship_tag": "ABX9TyM/LNVx9zCjxRabzPB+of25"
    },
    "kernelspec": {
      "name": "python3",
      "display_name": "Python 3"
    },
    "language_info": {
      "name": "python"
    }
  },
  "cells": [
    {
      "cell_type": "markdown",
      "source": [
        "##### Fibonacci Sequence"
      ],
      "metadata": {
        "id": "oRA2L36pxggv"
      }
    },
    {
      "cell_type": "code",
      "execution_count": null,
      "metadata": {
        "id": "s6Wha4kUxWw0"
      },
      "outputs": [],
      "source": [
        "# Definition\n",
        "\"\"\"\n",
        "f(0) = 0\n",
        "f(1) = 1\n",
        "f(n) = f(n-1) + f(n-2); for every n > 1\n",
        "\"\"\""
      ]
    },
    {
      "cell_type": "code",
      "source": [
        "# Time: O(2ⁿ)\n",
        "# Space: O(n)\n",
        "def F(n):\n",
        "  if n == 0: return 0\n",
        "  elif n == 1: return 1\n",
        "  else: return F(n-1) + F(n-2)\n",
        "F(7)"
      ],
      "metadata": {
        "colab": {
          "base_uri": "https://localhost:8080/"
        },
        "id": "VERRGQG5x9el",
        "outputId": "06ee8ba5-fd08-451a-f488-52af00c2a1e4"
      },
      "execution_count": 3,
      "outputs": [
        {
          "output_type": "execute_result",
          "data": {
            "text/plain": [
              "13"
            ]
          },
          "metadata": {},
          "execution_count": 3
        }
      ]
    },
    {
      "cell_type": "markdown",
      "source": [
        "##### Recursion in Linked Lists"
      ],
      "metadata": {
        "id": "p2UbEJuT1O5M"
      }
    },
    {
      "cell_type": "code",
      "source": [
        "# Singly Linked List\n",
        "class SinglyNode:\n",
        "  def __init__(self, val, next=None):\n",
        "    self.val = val\n",
        "    self.next = next\n",
        "\n",
        "  def __str__(self):\n",
        "    return str(self.val)\n",
        "\n",
        "Head = SinglyNode(1)\n",
        "A = SinglyNode(3)\n",
        "B = SinglyNode(4)\n",
        "C = SinglyNode(7)\n",
        "\n",
        "Head.next = A\n",
        "A.next = B\n",
        "B.next = C\n",
        "\n",
        "print(Head)"
      ],
      "metadata": {
        "colab": {
          "base_uri": "https://localhost:8080/"
        },
        "id": "qaU-rvO6ycOJ",
        "outputId": "c5cc9743-60b1-4db9-ebd4-03289977dcd7"
      },
      "execution_count": 5,
      "outputs": [
        {
          "output_type": "stream",
          "name": "stdout",
          "text": [
            "1\n"
          ]
        }
      ]
    },
    {
      "cell_type": "code",
      "source": [
        "# Time: O(n)\n",
        "# Space: O(n)\n",
        "def reverseLinkedList(node):\n",
        "  if not node:\n",
        "    return\n",
        "\n",
        "  reverseLinkedList(node.next)\n",
        "  print(node)\n",
        "\n",
        "reverseLinkedList(Head)"
      ],
      "metadata": {
        "colab": {
          "base_uri": "https://localhost:8080/"
        },
        "id": "j-SIiBRH6bGg",
        "outputId": "1de24547-b0cd-4dc7-fcd1-d1e20ceae3f3"
      },
      "execution_count": 6,
      "outputs": [
        {
          "output_type": "stream",
          "name": "stdout",
          "text": [
            "7\n",
            "4\n",
            "3\n",
            "1\n"
          ]
        }
      ]
    }
  ]
}